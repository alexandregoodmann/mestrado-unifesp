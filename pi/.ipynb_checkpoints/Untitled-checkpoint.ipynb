{
 "cells": [
  {
   "cell_type": "code",
   "execution_count": 1,
   "id": "4df4bec8-5e5c-4048-ba2e-d0f2e79cd524",
   "metadata": {},
   "outputs": [],
   "source": [
    "import cv2 as cv"
   ]
  },
  {
   "cell_type": "code",
   "execution_count": 2,
   "id": "4aacaf16-4317-4045-9cc5-83f46e48c6b6",
   "metadata": {},
   "outputs": [],
   "source": [
    "#abrir e exibir a imagem\n",
    "img = cv.imread('/home/alexandre/Documents/PI/imgs/Lenna.png');\n",
    "assert img is not None, 'Arquivo nao encontrado'\n",
    "#cv.imshow('Source Image', img)\n",
    "#cv.waitKey(0)\n",
    "#cv.destroyAllWindows()"
   ]
  },
  {
   "cell_type": "code",
   "execution_count": 3,
   "id": "1c1b6339-1354-45ec-9f34-dd7725368e80",
   "metadata": {},
   "outputs": [],
   "source": [
    "#aplicar um retangula na imagem\n",
    "img2 = img\n",
    "img2[0:50, 0:100] = [0,0,0]\n",
    "cv.imshow('Source Image', img2)\n",
    "cv.waitKey(0)\n",
    "cv.destroyAllWindows()"
   ]
  },
  {
   "cell_type": "code",
   "execution_count": null,
   "id": "608f894e-ad89-4fad-b0d7-a72d9a665d47",
   "metadata": {},
   "outputs": [],
   "source": []
  },
  {
   "cell_type": "code",
   "execution_count": null,
   "id": "27fcad78-405c-4d4f-ba36-2dbd5ab990bf",
   "metadata": {},
   "outputs": [],
   "source": []
  }
 ],
 "metadata": {
  "kernelspec": {
   "display_name": "Python 3 (ipykernel)",
   "language": "python",
   "name": "python3"
  },
  "language_info": {
   "codemirror_mode": {
    "name": "ipython",
    "version": 3
   },
   "file_extension": ".py",
   "mimetype": "text/x-python",
   "name": "python",
   "nbconvert_exporter": "python",
   "pygments_lexer": "ipython3",
   "version": "3.11.7"
  }
 },
 "nbformat": 4,
 "nbformat_minor": 5
}
